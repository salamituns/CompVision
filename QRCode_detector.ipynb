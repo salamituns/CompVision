{
  "nbformat": 4,
  "nbformat_minor": 0,
  "metadata": {
    "colab": {
      "name": "QRCode-detector.ipynb",
      "provenance": [],
      "mount_file_id": "14eM3XqKk1qnZpY1gF6VOrVIYeGhgCDNb",
      "authorship_tag": "ABX9TyOp9lYCurVgPjdUQgJsBWUd",
      "include_colab_link": true
    },
    "kernelspec": {
      "name": "python3",
      "display_name": "Python 3"
    },
    "language_info": {
      "name": "python"
    }
  },
  "cells": [
    {
      "cell_type": "markdown",
      "metadata": {
        "id": "view-in-github",
        "colab_type": "text"
      },
      "source": [
        "<a href=\"https://colab.research.google.com/github/salamituns/CompVision/blob/main/QRCode_detector.ipynb\" target=\"_parent\"><img src=\"https://colab.research.google.com/assets/colab-badge.svg\" alt=\"Open In Colab\"/></a>"
      ]
    },
    {
      "cell_type": "markdown",
      "metadata": {
        "id": "wWT2fZZzEhY4"
      },
      "source": [
        " Detecting and Decoding a QR Code."
      ]
    },
    {
      "cell_type": "code",
      "metadata": {
        "id": "fOSl80SlunKf"
      },
      "source": [
        "import cv2\n",
        "import numpy as np\n",
        "from google.colab.patches import cv2_imshow # for image display"
      ],
      "execution_count": null,
      "outputs": []
    },
    {
      "cell_type": "code",
      "metadata": {
        "id": "YC5-moX-yima"
      },
      "source": [
        "#Read image\n",
        "image = cv2.imread('/content/drive/MyDrive/qr1.png')"
      ],
      "execution_count": null,
      "outputs": []
    },
    {
      "cell_type": "code",
      "metadata": {
        "id": "GXjRrhix1lbt"
      },
      "source": [
        "#create object class of qrdetector\n",
        "qrCodeDetector = cv2.QRCodeDetector()"
      ],
      "execution_count": null,
      "outputs": []
    },
    {
      "cell_type": "code",
      "metadata": {
        "id": "qvo2IRDz1vzz"
      },
      "source": [
        "#call the detectAndDecode method to detect the qr code.\n",
        "decodedtext, points, _ = qrCodeDetector.detectAndDecode(image)\n",
        "#NB: - is a simple convention for ignoring the third returning value..which we don't need in this case."
      ],
      "execution_count": null,
      "outputs": []
    },
    {
      "cell_type": "code",
      "metadata": {
        "colab": {
          "base_uri": "https://localhost:8080/"
        },
        "id": "UNS3okzC3yKp",
        "outputId": "0b2703d7-87e5-4065-f247-2ab2161e314b"
      },
      "source": [
        "#to check if the QR code can be detected.\n",
        "if points is not None:\n",
        "    # QR Code detected handling code\n",
        "    print('QR code detected handling code') \n",
        "else:\n",
        "    print(\"QR code not detected\")"
      ],
      "execution_count": null,
      "outputs": [
        {
          "output_type": "stream",
          "text": [
            "QR code detected handling code\n"
          ],
          "name": "stdout"
        }
      ]
    },
    {
      "cell_type": "code",
      "metadata": {
        "id": "ipo-3fON4LT0"
      },
      "source": [
        "#Decode and print the decoded text\n",
        "nrOfPoints = len(points) #get the length of the array\n",
        "\n",
        "for i in range(nrOfPoints): #iterate by each vertex\n",
        "  nextPointIndex = (i + 1) % nrOfPoints #connecting it to the one immediately after\n",
        "  # Draw a rectangle around the QR code that has been detected and show it on screen\n",
        "  cv2.line(image, tuple(points[i][0]), tuple(points[nextPointIndex][0]), (0,255, 0), 5)"
      ],
      "execution_count": null,
      "outputs": []
    },
    {
      "cell_type": "code",
      "metadata": {
        "colab": {
          "base_uri": "https://localhost:8080/",
          "height": 234
        },
        "id": "cV2DXTX6AigK",
        "outputId": "1db0f1e2-9d19-47f3-8fa7-3ef7b22fa39b"
      },
      "source": [
        "print(decodedtext)\n",
        "\n",
        "cv2_imshow(image)\n",
        "cv2.waitKey(0)\n",
        "cv2.destroyAllWindows()"
      ],
      "execution_count": null,
      "outputs": [
        {
          "output_type": "stream",
          "text": [
            "Putting my OpenCV knowledge to test.\n"
          ],
          "name": "stdout"
        },
        {
          "output_type": "display_data",
          "data": {
            "image/png": "[encoded data removed]",
            "text/plain": [
              "<PIL.Image.Image image mode=RGB size=200x200 at 0x7FCACD8495D0>"
            ]
          },
          "metadata": {
            "tags": []
          }
        }
      ]
    }
  ]
}